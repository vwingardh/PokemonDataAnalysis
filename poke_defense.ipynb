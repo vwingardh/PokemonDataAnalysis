{
 "cells": [
  {
   "cell_type": "code",
   "execution_count": 1,
   "metadata": {},
   "outputs": [],
   "source": [
    "import pandas as pd\n",
    "\n",
    "from poke import exclude_variant, plot_data"
   ]
  },
  {
   "cell_type": "code",
   "execution_count": 2,
   "metadata": {},
   "outputs": [],
   "source": [
    "# Data frame that includes all Pokemon variations:\n",
    "# Mega, White, Black, Forme, Size, etc. \n",
    "all_variations = pd.read_csv('Pokemon.csv')"
   ]
  },
  {
   "cell_type": "code",
   "execution_count": 3,
   "metadata": {},
   "outputs": [],
   "source": [
    "# Dataframe that excludes 'Mega' Pokemon\n",
    "df_no_mega = exclude_variant(dataFrame=all_variations, variant='Mega')"
   ]
  },
  {
   "cell_type": "code",
   "execution_count": null,
   "metadata": {},
   "outputs": [],
   "source": [
    "all_variations.describe()"
   ]
  },
  {
   "cell_type": "code",
   "execution_count": null,
   "metadata": {},
   "outputs": [],
   "source": [
    "# Top ten highest defense pokemon - including all variations\n",
    "df_defense = all_variations[all_variations['Defense'] > 167.000000]\n",
    "\n",
    "plot_data(x='Defense', y='Name', dataFrame=df_defense, sortType='Defense', headSize=10)"
   ]
  },
  {
   "cell_type": "code",
   "execution_count": null,
   "metadata": {},
   "outputs": [],
   "source": [
    "# Top ten highest defense pokemon - including all variations\n",
    "# * including Pokemon tied at 145 so top 14\n",
    "df_spk_defense = all_variations[all_variations['Sp. Def'] > 145.000000]\n",
    "\n",
    "plot_data(x='Sp. Def', y='Name', dataFrame=df_spk_defense, sortType='Sp. Def', headSize=14)"
   ]
  },
  {
   "cell_type": "code",
   "execution_count": null,
   "metadata": {},
   "outputs": [],
   "source": [
    "# Top ten highest defense Pokemon - excluding legendary and mega\n",
    "df_no_mega_legendary = df_no_mega[(df_no_mega['Legendary']) == False]\n",
    "df_defense = df_no_mega_legendary[df_no_mega_legendary['Defense'] > 149.000000]\n",
    "\n",
    "plot_data(x='Defense', y='Name', dataFrame=df_defense, sortType='Defense', headSize=10)"
   ]
  },
  {
   "cell_type": "code",
   "execution_count": null,
   "metadata": {},
   "outputs": [],
   "source": [
    "# Top ten highest defense Pokemon - only legendary\n",
    "df_only_legendary = df_no_mega[df_no_mega['Legendary'] == True]\n",
    "df_defense = df_only_legendary[df_only_legendary['Defense'] > 120.000000]\n",
    "\n",
    "plot_data(x='Defense', y='Name', dataFrame=df_defense, sortType='Defense', headSize=10)"
   ]
  }
 ],
 "metadata": {
  "kernelspec": {
   "display_name": "Python 3.10.4 ('venv': venv)",
   "language": "python",
   "name": "python3"
  },
  "language_info": {
   "codemirror_mode": {
    "name": "ipython",
    "version": 3
   },
   "file_extension": ".py",
   "mimetype": "text/x-python",
   "name": "python",
   "nbconvert_exporter": "python",
   "pygments_lexer": "ipython3",
   "version": "3.10.4"
  },
  "orig_nbformat": 4,
  "vscode": {
   "interpreter": {
    "hash": "cafe61f38dcfa6f444fd99740e80e15cb7bd91ede2272e918d9e8436be811067"
   }
  }
 },
 "nbformat": 4,
 "nbformat_minor": 2
}
