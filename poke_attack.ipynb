{
 "cells": [
  {
   "cell_type": "code",
   "execution_count": 2,
   "metadata": {},
   "outputs": [],
   "source": [
    "import pandas as pd\n",
    "\n",
    "from poke import exclude_variant, plot_data"
   ]
  },
  {
   "cell_type": "code",
   "execution_count": null,
   "metadata": {},
   "outputs": [],
   "source": [
    "# Data frame that includes all Pokemon variations:\n",
    "# Mega, White, Black, Forme, Size \n",
    "all_variations = pd.read_csv('Pokemon.csv')\n",
    "all_variations.head()"
   ]
  },
  {
   "cell_type": "code",
   "execution_count": null,
   "metadata": {},
   "outputs": [],
   "source": [
    "# Dataframe that excludes 'Mega' Pokemon\n",
    "df_no_mega = exclude_variant(dataFrame=all_variations, variant='Mega')\n",
    "df_no_mega.head()"
   ]
  },
  {
   "cell_type": "code",
   "execution_count": null,
   "metadata": {},
   "outputs": [],
   "source": [
    "all_variations.describe()"
   ]
  },
  {
   "cell_type": "code",
   "execution_count": null,
   "metadata": {},
   "outputs": [],
   "source": [
    "# Top ten highest attack pokemon - including all variations\n",
    "df_attack = all_variations[all_variations['Attack'] > 164.000000]\n",
    "\n",
    "plot_data(x='Attack', y='Name', dataFrame=df_attack, sortType='Attack', headSize=10)"
   ]
  },
  {
   "cell_type": "code",
   "execution_count": null,
   "metadata": {},
   "outputs": [],
   "source": [
    "# Top ten highest special attack pokemon - including all variations\n",
    "df_spk_attack = all_variations[all_variations['Sp. Atk'] > 164.000000]\n",
    "\n",
    "plot_data(x='Sp. Atk', y='Name', dataFrame=df_spk_attack, sortType='Sp. Atk', headSize=10)"
   ]
  },
  {
   "cell_type": "code",
   "execution_count": null,
   "metadata": {},
   "outputs": [],
   "source": [
    "# Top ten highest attack Pokemon - including legendary, excluding mega \n",
    "# * including Pokemon tied at 149 so top 13\n",
    "df_attack = df_no_mega[df_no_mega['Attack'] > 149.000000]\n",
    "\n",
    "plot_data(x='Attack', y='Name', dataFrame=df_attack, sortType='Attack', headSize=13)"
   ]
  },
  {
   "cell_type": "code",
   "execution_count": null,
   "metadata": {},
   "outputs": [],
   "source": [
    "# Top ten highest attack Pokemon - including mega, excluding legendary\n",
    "df_no_legendary = all_variations[(all_variations['Legendary']) == False]\n",
    "df_attack = df_no_legendary[df_no_legendary['Attack'] > 149.000000]\n",
    "\n",
    "plot_data(x='Attack', y='Name', dataFrame=df_attack, sortType='Attack', headSize=10)"
   ]
  },
  {
   "cell_type": "code",
   "execution_count": null,
   "metadata": {},
   "outputs": [],
   "source": [
    "# Top ten highest attack Pokemon - excluding legendary and mega\n",
    "# * including Pokemon tied at 134 so top 13\n",
    "df_no_mega_legendary = df_no_mega[(df_no_mega['Legendary']) == False]\n",
    "df_attack = df_no_mega_legendary[df_no_mega_legendary['Attack'] > 134.000000]\n",
    "\n",
    "plot_data(x='Attack', y='Name', dataFrame=df_attack, sortType='Attack', headSize=13)"
   ]
  },
  {
   "cell_type": "code",
   "execution_count": null,
   "metadata": {},
   "outputs": [],
   "source": [
    "# Top ten highest attack Pokemon - only legendary\n",
    "df_only_legendary = df_no_mega[df_no_mega['Legendary'] == True]\n",
    "df_attack = df_only_legendary[df_only_legendary['Attack'] > 149.000000]\n",
    "\n",
    "plot_data(x='Attack', y='Name', dataFrame=df_attack, sortType='Attack', headSize=10)"
   ]
  }
 ],
 "metadata": {
  "kernelspec": {
   "display_name": "Python 3.10.4 ('venv': venv)",
   "language": "python",
   "name": "python3"
  },
  "language_info": {
   "codemirror_mode": {
    "name": "ipython",
    "version": 3
   },
   "file_extension": ".py",
   "mimetype": "text/x-python",
   "name": "python",
   "nbconvert_exporter": "python",
   "pygments_lexer": "ipython3",
   "version": "3.10.4"
  },
  "orig_nbformat": 4,
  "vscode": {
   "interpreter": {
    "hash": "cafe61f38dcfa6f444fd99740e80e15cb7bd91ede2272e918d9e8436be811067"
   }
  }
 },
 "nbformat": 4,
 "nbformat_minor": 2
}
