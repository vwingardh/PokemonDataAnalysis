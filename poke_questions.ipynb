{
 "cells": [
  {
   "cell_type": "code",
   "execution_count": 3,
   "metadata": {},
   "outputs": [],
   "source": [
    "import pandas as pd\n",
    "import seaborn as sns\n",
    "import matplotlib.pyplot as plt\n",
    "\n",
    "from poke import exclude_variant, plot_data, get_starter_pokemon, get_type"
   ]
  },
  {
   "cell_type": "code",
   "execution_count": 4,
   "metadata": {},
   "outputs": [],
   "source": [
    "# Data frame that includes all Pokemon variations:\n",
    "# Mega, White, Black, Forme, Size \n",
    "all_variations = pd.read_csv('Pokemon.csv', keep_default_na=False)\n",
    "\n",
    "df_no_mega = exclude_variant(all_variations, variant='Mega')"
   ]
  },
  {
   "cell_type": "code",
   "execution_count": null,
   "metadata": {},
   "outputs": [],
   "source": [
    "# What is the highest attack pokemon that is not legendary?\n",
    "df_no_legendary = all_variations[all_variations['Legendary'] == False]\n",
    "highest_attack = df_no_legendary.sort_values(by='Attack', ascending=False)\n",
    "\n",
    "highest_attack.head(1)"
   ]
  },
  {
   "cell_type": "code",
   "execution_count": null,
   "metadata": {},
   "outputs": [],
   "source": [
    "# What is the highest attack pokemon that is not mega or legendary?\n",
    "df_no_legendary = df_no_mega[df_no_mega['Legendary'] == False]\n",
    "highest_attack = df_no_legendary.sort_values(by='Attack', ascending=False)\n",
    "\n",
    "highest_attack.head(1)"
   ]
  },
  {
   "cell_type": "code",
   "execution_count": null,
   "metadata": {},
   "outputs": [],
   "source": [
    "# Do pokemon become stronger in later generations? \n",
    "df = all_variations[['Generation', 'Attack']]\n",
    "\n",
    "sns.set_style('whitegrid')\n",
    "plt.figure(figsize=(10, 10))\n",
    "sns.scatterplot(\n",
    "    x='Generation', \n",
    "    y='Attack',\n",
    "    hue='Attack', \n",
    "    data=df\n",
    ")"
   ]
  },
  {
   "cell_type": "code",
   "execution_count": null,
   "metadata": {},
   "outputs": [],
   "source": [
    "# Which generation has the best stats?\n",
    "def generation_average_attack(generations):\n",
    "    counter = 1\n",
    "    for i in generations:\n",
    "        df_gen = all_variations[all_variations['Generation'] == i]\n",
    "        counter += 1\n",
    "        print(df_gen.mean())\n",
    "        print(\"----\", \"Gen\", counter, \"----\")\n",
    "\n",
    "gen1 = generation_average_attack(range(1, 6))"
   ]
  },
  {
   "cell_type": "code",
   "execution_count": null,
   "metadata": {},
   "outputs": [],
   "source": [
    "# Which starter pokemon has the best stats?\n",
    "# If we base our answer of 'best' on a combination of:\n",
    "# attack, defense, sp. attack, sp. defense, HP, and speed\n",
    "# then Bulbasaur, Chikorita, and Turtwig tie as the best starter pokemon\n",
    "starter_pokemon = [\n",
    "    'Bulbasaur', \n",
    "    'Squirtle', \n",
    "    'Charmander',\n",
    "    'Chikorita',\n",
    "    'Cyndaquil',\n",
    "    'Totodile',\n",
    "    'Torchic', \n",
    "    'Treecko',\n",
    "    'Mudkip',\n",
    "    'Turtwig',\n",
    "    'Chimchar',\n",
    "    'Piplup',\n",
    "    'Snivy',\n",
    "    'Tepig',\n",
    "    'Oshawott',\n",
    "    'Chespin',\n",
    "    'Fennekin',\n",
    "    'Froakie' \n",
    "]\n",
    "\n",
    "df_starter = get_starter_pokemon(all_variations, starter_pokemon)\n",
    "df_starter.head(20)\n",
    "\n",
    "plot_data(x='Total', y='Name', dataFrame=df_starter, sortType='Total', headSize=20)"
   ]
  },
  {
   "cell_type": "code",
   "execution_count": null,
   "metadata": {},
   "outputs": [],
   "source": [
    "# Is speed and attack positively correlated?\n",
    "attack = all_variations['Attack']\n",
    "speed = all_variations['Speed']\n",
    "\n",
    "print(all_variations['Attack'].corr(all_variations['Speed']))\n",
    "\n",
    "df = all_variations[['Attack', 'Speed']]\n",
    "df.head()\n",
    "\n",
    "sns.relplot(\n",
    "    data=df,\n",
    "    x='Attack',\n",
    "    y='Speed',\n",
    "    kind='line',\n",
    "    hue='Attack',\n",
    "    height=10,\n",
    "    estimator=None,\n",
    "    linewidth=2,\n",
    ")\n",
    "sns.color_palette('flare', as_cmap=True)"
   ]
  },
  {
   "cell_type": "code",
   "execution_count": null,
   "metadata": {},
   "outputs": [],
   "source": [
    "# Are pokemon with two types stronger on average than pokemon with just one type?\n",
    "df_type = all_variations[['Type 1', 'Type 2', 'Name', 'Attack', 'Sp. Atk']]\n",
    "\n",
    "type1 = get_type(df_type, type=1)\n",
    "type2 = get_type(df_type, type=2)\n",
    "\n",
    "cols = ['Attack', 'Sp. Atk']\n",
    "type1_mean = type1[cols].mean()\n",
    "type2_mean = type2[cols].mean()\n",
    "print(type1_mean, '\\n', '-----', '\\n', type2_mean)"
   ]
  },
  {
   "cell_type": "code",
   "execution_count": null,
   "metadata": {},
   "outputs": [],
   "source": [
    "# What is the pokemon type of the strongest pokemon?\n",
    "\n",
    "# Psychic\n",
    "df_attack = type1[type1['Attack'] > 170.000000]\n",
    "df_attack.head(1)\n",
    "\n",
    "# Psychic\n",
    "df_attack = type1[type1['Sp. Atk'] > 180.000000]\n",
    "df_attack.head(1)\n",
    "\n",
    "# Psychic, Fighting\n",
    "df_attack = type2[type2['Attack'] > 170.000000]\n",
    "df_attack.head(1)\n",
    "\n",
    "# Dragon, Flying\n",
    "df_attack = type2[type2['Sp. Atk'] > 170.000000]\n",
    "df_attack.head(1)"
   ]
  },
  {
   "cell_type": "code",
   "execution_count": null,
   "metadata": {},
   "outputs": [],
   "source": [
    "# Pokemon with only one type, strongest type\n",
    "df_type_attack = type1[['Type 1', 'Attack']]\n",
    "\n",
    "sns.set_style('whitegrid')\n",
    "plt.figure(figsize=(10, 10))\n",
    "sns.barplot(\n",
    "    data=df_type_attack,\n",
    "    x='Attack',\n",
    "    y='Type 1',\n",
    "    palette='inferno',\n",
    "    errorbar=None,\n",
    ")"
   ]
  }
 ],
 "metadata": {
  "kernelspec": {
   "display_name": "Python 3.10.4 ('venv': venv)",
   "language": "python",
   "name": "python3"
  },
  "language_info": {
   "codemirror_mode": {
    "name": "ipython",
    "version": 3
   },
   "file_extension": ".py",
   "mimetype": "text/x-python",
   "name": "python",
   "nbconvert_exporter": "python",
   "pygments_lexer": "ipython3",
   "version": "3.10.4"
  },
  "orig_nbformat": 4,
  "vscode": {
   "interpreter": {
    "hash": "cafe61f38dcfa6f444fd99740e80e15cb7bd91ede2272e918d9e8436be811067"
   }
  }
 },
 "nbformat": 4,
 "nbformat_minor": 2
}
